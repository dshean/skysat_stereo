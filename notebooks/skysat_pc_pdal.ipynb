{
 "cells": [
  {
   "cell_type": "markdown",
   "metadata": {},
   "source": [
    "## SkySat point cloud PDAL processing and colorization\n",
    "David Shean  \n",
    "August 20, 2020"
   ]
  },
  {
   "cell_type": "code",
   "execution_count": 24,
   "metadata": {},
   "outputs": [],
   "source": [
    "import pdal\n",
    "import os"
   ]
  },
  {
   "cell_type": "code",
   "execution_count": 73,
   "metadata": {},
   "outputs": [
    {
     "name": "stdout",
     "output_type": "stream",
     "text": [
      "/private/tmp/skysat_rainier_PC_test\n"
     ]
    }
   ],
   "source": [
    "topdir = '/tmp/skysat_rainier_PC_test'\n",
    "%cd $topdir"
   ]
  },
  {
   "cell_type": "code",
   "execution_count": 74,
   "metadata": {},
   "outputs": [],
   "source": [
    "laz_fn = '20190827_214821_ssc9d2_0013_pc_merge.laz'\n",
    "out_fn = os.path.splitext(laz_fn)[0]+'_pdal.tif'"
   ]
  },
  {
   "cell_type": "code",
   "execution_count": 61,
   "metadata": {},
   "outputs": [],
   "source": [
    "json = \"\"\"\n",
    "[\n",
    "    \"%s\",\n",
    "    {\n",
    "        \"type\":\"writers.gdal\",\n",
    "        \"filename\": \"%s\",\n",
    "        \"gdaldriver\":\"GTiff\",\n",
    "        \"output_type\":\"all\",\n",
    "        \"resolution\":1.0,\n",
    "        \"data_type\":\"float\",\n",
    "        \"gdalopts\":\"COMPRESS=LZW,TILED=YES,BIGTIFF=IF_SAFER\"\n",
    "    }\n",
    "]\n",
    "\"\"\""
   ]
  },
  {
   "cell_type": "code",
   "execution_count": 63,
   "metadata": {},
   "outputs": [],
   "source": [
    "pipeline = pdal.Pipeline(json % (laz_fn, out_fn))"
   ]
  },
  {
   "cell_type": "code",
   "execution_count": 64,
   "metadata": {},
   "outputs": [],
   "source": [
    "count = pipeline.execute()\n",
    "#arrays = pipeline.arrays\n",
    "#metadata = pipeline.metadata\n",
    "#log = pipeline.log"
   ]
  },
  {
   "cell_type": "code",
   "execution_count": 60,
   "metadata": {},
   "outputs": [
    {
     "data": {
      "text/plain": [
       "43859597"
      ]
     },
     "execution_count": 60,
     "metadata": {},
     "output_type": "execute_result"
    }
   ],
   "source": [
    "count"
   ]
  },
  {
   "cell_type": "code",
   "execution_count": 75,
   "metadata": {},
   "outputs": [],
   "source": [
    "laz_fn = \"20190827_214821_ssc9d2_0013_pc_merge.laz\"\n",
    "ortho_fn = \"20190827_214821_ssc9d2_0013_basic_panchromatic_dn_map_warp.tif\"\n",
    "out_fn = os.path.splitext(laz_fn)[0]+'_color.laz'"
   ]
  },
  {
   "cell_type": "code",
   "execution_count": 79,
   "metadata": {},
   "outputs": [],
   "source": [
    "json = \"\"\"\n",
    "[\n",
    "    \"%s\",\n",
    "    {\n",
    "        \"type\":\"filters.colorization\",\n",
    "        \"dimensions\":\"Intensity:1:1.0\",\n",
    "        \"raster\":\"%s\" \n",
    "    },\n",
    "    \"%s\"\n",
    "]\n",
    "\"\"\"\n",
    " #\"dimensions\":\"Red:1:1.0, Blue:1:1.0, Green:1:1.0\","
   ]
  },
  {
   "cell_type": "code",
   "execution_count": 80,
   "metadata": {},
   "outputs": [],
   "source": [
    "pipeline = pdal.Pipeline(json % (laz_fn, ortho_fn, out_fn))"
   ]
  },
  {
   "cell_type": "code",
   "execution_count": 81,
   "metadata": {},
   "outputs": [],
   "source": [
    "count = pipeline.execute()"
   ]
  }
 ],
 "metadata": {
  "kernelspec": {
   "display_name": "Python 3",
   "language": "python",
   "name": "python3"
  },
  "language_info": {
   "codemirror_mode": {
    "name": "ipython",
    "version": 3
   },
   "file_extension": ".py",
   "mimetype": "text/x-python",
   "name": "python",
   "nbconvert_exporter": "python",
   "pygments_lexer": "ipython3",
   "version": "3.8.5"
  }
 },
 "nbformat": 4,
 "nbformat_minor": 4
}
